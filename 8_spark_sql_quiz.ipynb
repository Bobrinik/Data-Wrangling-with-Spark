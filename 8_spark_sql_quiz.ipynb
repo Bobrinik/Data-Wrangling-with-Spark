{
 "cells": [
  {
   "cell_type": "markdown",
   "metadata": {},
   "source": [
    "# Spark SQL Quiz\n",
    "\n",
    "This quiz uses the same dataset and questions from the Spark Data Frames Programming Quiz. For this quiz, however, use Spark SQL instead of Spark Data Frames."
   ]
  },
  {
   "cell_type": "code",
   "execution_count": 13,
   "metadata": {},
   "outputs": [],
   "source": [
    "from pyspark.sql import SparkSession\n",
    "from pyspark.sql.types import StringType, IntegerType\n",
    "from pyspark.sql.functions import desc, asc, udf, avg, count, sort_array, when, col, isnan\n",
    "from pyspark.sql.functions import sum as Fsum\n",
    "from pyspark.sql.window import Window\n",
    "import datetime\n",
    "import numpy as np\n",
    "import pandas as pd\n",
    "import matplotlib.pyplot as plt\n",
    "%matplotlib inline"
   ]
  },
  {
   "cell_type": "code",
   "execution_count": 2,
   "metadata": {},
   "outputs": [],
   "source": [
    "spark = SparkSession \\\n",
    "    .builder \\\n",
    "    .appName('Data Wrangling') \\\n",
    "    .getOrCreate()"
   ]
  },
  {
   "cell_type": "code",
   "execution_count": 3,
   "metadata": {},
   "outputs": [],
   "source": [
    "path = \"data/sparkify_log_small.json\"\n",
    "log = spark.read.json(path)\n",
    "log.createOrReplaceTempView('log')"
   ]
  },
  {
   "cell_type": "markdown",
   "metadata": {},
   "source": [
    "# Question 1\n",
    "\n",
    "Which page did user id \"\"(empty string) NOT visit?"
   ]
  },
  {
   "cell_type": "code",
   "execution_count": 14,
   "metadata": {},
   "outputs": [],
   "source": [
    "query = \"\"\"\n",
    "        SELECT * \n",
    "        FROM \n",
    "        (SELECT DISTINCT page\n",
    "        FROM log \n",
    "        WHERE userId = '') AS blank\n",
    "\n",
    "        RIGHT JOIN\n",
    "        (SELECT DISTINCT page\n",
    "        FROM log) AS all\n",
    "        ON blank.page = all.page\n",
    "        WHERE blank.page IS NULL\n",
    "        \"\"\""
   ]
  },
  {
   "cell_type": "code",
   "execution_count": 16,
   "metadata": {},
   "outputs": [
    {
     "name": "stdout",
     "output_type": "stream",
     "text": [
      "+----+----------------+\n",
      "|page|            page|\n",
      "+----+----------------+\n",
      "|null|Submit Downgrade|\n",
      "|null|       Downgrade|\n",
      "|null|          Logout|\n",
      "|null|   Save Settings|\n",
      "|null|        Settings|\n",
      "|null|        NextSong|\n",
      "|null|         Upgrade|\n",
      "|null|           Error|\n",
      "|null|  Submit Upgrade|\n",
      "+----+----------------+\n",
      "\n"
     ]
    }
   ],
   "source": [
    "spark.sql(query).show()"
   ]
  },
  {
   "cell_type": "markdown",
   "metadata": {},
   "source": [
    "# Question 2 - Reflect\n",
    "\n",
    "Why might you prefer to use SQL over data frames? Why might you prefer data frames over SQL?"
   ]
  },
  {
   "cell_type": "markdown",
   "metadata": {},
   "source": [
    "# Question 3\n",
    "\n",
    "How many female users do we have in the data set?"
   ]
  },
  {
   "cell_type": "code",
   "execution_count": 10,
   "metadata": {},
   "outputs": [
    {
     "name": "stdout",
     "output_type": "stream",
     "text": [
      "+----------------------+\n",
      "|count(DISTINCT userId)|\n",
      "+----------------------+\n",
      "|                   462|\n",
      "+----------------------+\n",
      "\n"
     ]
    }
   ],
   "source": [
    "query = \"\"\"\n",
    "        SELECT count(DISTINCT userId)\n",
    "        FROM log \n",
    "        WHERE gender = 'F'\n",
    "        \"\"\"\n",
    "spark.sql(query).show()"
   ]
  },
  {
   "cell_type": "markdown",
   "metadata": {},
   "source": [
    "# Question 4\n",
    "\n",
    "How many songs were played from the most played artist?"
   ]
  },
  {
   "cell_type": "code",
   "execution_count": 12,
   "metadata": {},
   "outputs": [
    {
     "name": "stdout",
     "output_type": "stream",
     "text": [
      "+--------------------+-----------+\n",
      "|              artist|count(song)|\n",
      "+--------------------+-----------+\n",
      "|            Coldplay|         83|\n",
      "|       Kings Of Leon|         69|\n",
      "|Florence + The Ma...|         52|\n",
      "|            BjÃÂ¶rk|         46|\n",
      "|       Dwight Yoakam|         45|\n",
      "|       Justin Bieber|         43|\n",
      "|      The Black Keys|         40|\n",
      "|         OneRepublic|         37|\n",
      "|        Jack Johnson|         36|\n",
      "|                Muse|         36|\n",
      "+--------------------+-----------+\n",
      "\n"
     ]
    }
   ],
   "source": [
    "query = \"\"\"\n",
    "        SELECT artist, count(song)\n",
    "        FROM log \n",
    "        GROUP BY artist\n",
    "        ORDER BY count(song) DESC\n",
    "        LIMIT 10\n",
    "        \"\"\"\n",
    "spark.sql(query).show()"
   ]
  },
  {
   "cell_type": "markdown",
   "metadata": {},
   "source": [
    "# Question 5 (challenge)\n",
    "\n",
    "How many songs do users listen to on average between visiting our home page? Please round your answer to the closest integer."
   ]
  },
  {
   "cell_type": "code",
   "execution_count": 25,
   "metadata": {},
   "outputs": [
    {
     "name": "stdout",
     "output_type": "stream",
     "text": [
      "+------+-------------+--------+---------+\n",
      "|userId|           ts|    page|home_page|\n",
      "+------+-------------+--------+---------+\n",
      "|  1046|1513720872284|NextSong|        0|\n",
      "|  1000|1513720878284|NextSong|        0|\n",
      "|  2219|1513720881284|NextSong|        0|\n",
      "|  2373|1513720905284|NextSong|        0|\n",
      "|  1747|1513720913284|    Home|        1|\n",
      "|  1162|1513720955284|NextSong|        0|\n",
      "|  1061|1513720959284|NextSong|        0|\n",
      "|   748|1513720959284|    Home|        1|\n",
      "|   597|1513720980284|    Home|        1|\n",
      "|  1806|1513720983284|NextSong|        0|\n",
      "|   748|1513720993284|NextSong|        0|\n",
      "|  1176|1513721031284|NextSong|        0|\n",
      "|  2164|1513721045284|NextSong|        0|\n",
      "|  2146|1513721058284|NextSong|        0|\n",
      "|  2219|1513721077284|NextSong|        0|\n",
      "|  1176|1513721088284|    Home|        1|\n",
      "|  2904|1513721095284|NextSong|        0|\n",
      "|   597|1513721097284|NextSong|        0|\n",
      "|   226|1513721104284|NextSong|        0|\n",
      "|  1046|1513721104284|NextSong|        0|\n",
      "+------+-------------+--------+---------+\n",
      "only showing top 20 rows\n",
      "\n"
     ]
    }
   ],
   "source": [
    "query1 = \"\"\"\n",
    "        SELECT userId, ts, page, \n",
    "        CASE WHEN page = 'Home' THEN 1 else 0 END AS home_page\n",
    "        FROM log\n",
    "        WHERE (page = 'Home') or (page ='NextSong') \n",
    "        \"\"\"\n",
    "table1 = spark.sql(query1)\n",
    "table1.createOrReplaceTempView('table1')\n",
    "table1.show()"
   ]
  },
  {
   "cell_type": "code",
   "execution_count": 26,
   "metadata": {},
   "outputs": [
    {
     "name": "stdout",
     "output_type": "stream",
     "text": [
      "+------+-------------+--------+---------+------+\n",
      "|userId|           ts|    page|home_page|period|\n",
      "+------+-------------+--------+---------+------+\n",
      "|  1436|1513782858284|NextSong|        0|     0|\n",
      "|  1436|1513783259284|NextSong|        0|     0|\n",
      "|  2088|1513802824284|NextSong|        0|     0|\n",
      "|  2088|1513803057284|NextSong|        0|     0|\n",
      "|  2088|1513803254284|NextSong|        0|     0|\n",
      "|  2088|1513803413284|NextSong|        0|     0|\n",
      "|  2088|1513803651284|NextSong|        0|     0|\n",
      "|  2088|1513803820284|NextSong|        0|     0|\n",
      "|  2088|1513803967284|NextSong|        0|     0|\n",
      "|  2088|1513804196284|NextSong|        0|     0|\n",
      "|  2088|1513804555284|NextSong|        0|     0|\n",
      "|  2088|1513804786284|NextSong|        0|     0|\n",
      "|  2088|1513805065284|NextSong|        0|     0|\n",
      "|  2088|1513805494284|NextSong|        0|     0|\n",
      "|  2088|1513805859284|NextSong|        0|     0|\n",
      "|  2088|1513805972284|    Home|        1|     1|\n",
      "|  2162|1513773170284|NextSong|        0|     0|\n",
      "|  2162|1513773271284|NextSong|        0|     0|\n",
      "|  2162|1513773448284|NextSong|        0|     0|\n",
      "|  2162|1513773661284|NextSong|        0|     0|\n",
      "|  2162|1513773962284|NextSong|        0|     0|\n",
      "|  2162|1513774196284|NextSong|        0|     0|\n",
      "|  2162|1513774446284|NextSong|        0|     0|\n",
      "|  2162|1513774702284|NextSong|        0|     0|\n",
      "|  2162|1513775001284|NextSong|        0|     0|\n",
      "|  2162|1513775221284|NextSong|        0|     0|\n",
      "|  2162|1513775462284|NextSong|        0|     0|\n",
      "|  2162|1513775810284|NextSong|        0|     0|\n",
      "|  2162|1513776042284|NextSong|        0|     0|\n",
      "|  2162|1513776261284|NextSong|        0|     0|\n",
      "|  2162|1513776667284|NextSong|        0|     0|\n",
      "|  2162|1513776689284|    Home|        1|     1|\n",
      "|  2162|1513776699284|    Home|        1|     2|\n",
      "|  2162|1513776838284|NextSong|        0|     2|\n",
      "|  2162|1513777095284|NextSong|        0|     2|\n",
      "|  2162|1513777419284|NextSong|        0|     2|\n",
      "|  2162|1513777669284|NextSong|        0|     2|\n",
      "|  2162|1513777906284|NextSong|        0|     2|\n",
      "|  2162|1513778117284|NextSong|        0|     2|\n",
      "|  2162|1513778348284|NextSong|        0|     2|\n",
      "|  2162|1513778523284|NextSong|        0|     2|\n",
      "|  2162|1513778740284|NextSong|        0|     2|\n",
      "|  2162|1513778915284|NextSong|        0|     2|\n",
      "|  2162|1513779348284|NextSong|        0|     2|\n",
      "|  2162|1513779578284|NextSong|        0|     2|\n",
      "|  2162|1513779800284|NextSong|        0|     2|\n",
      "|  2162|1513780156284|NextSong|        0|     2|\n",
      "|  2162|1513780371284|NextSong|        0|     2|\n",
      "|  2162|1513780569284|NextSong|        0|     2|\n",
      "|  2162|1513780860284|NextSong|        0|     2|\n",
      "|  2162|1513781065284|NextSong|        0|     2|\n",
      "|  2162|1513781246284|NextSong|        0|     2|\n",
      "|  2294|1513773034284|NextSong|        0|     0|\n",
      "|  2294|1513773276284|NextSong|        0|     0|\n",
      "|  2294|1513773443284|NextSong|        0|     0|\n",
      "|  2294|1513773644284|NextSong|        0|     0|\n",
      "|  2294|1513773887284|NextSong|        0|     0|\n",
      "|  2294|1513774089284|NextSong|        0|     0|\n",
      "|  2294|1513774270284|NextSong|        0|     0|\n",
      "|  2294|1513774519284|NextSong|        0|     0|\n",
      "|  2294|1513774650284|NextSong|        0|     0|\n",
      "|  2294|1513774894284|NextSong|        0|     0|\n",
      "|  2294|1513775155284|NextSong|        0|     0|\n",
      "|  2294|1513775245284|    Home|        1|     1|\n",
      "|  2294|1513775333284|NextSong|        0|     1|\n",
      "|  2294|1513775504284|NextSong|        0|     1|\n",
      "|  2294|1513775825284|NextSong|        0|     1|\n",
      "|  2294|1513776034284|NextSong|        0|     1|\n",
      "|  2294|1513776256284|    Home|        1|     2|\n",
      "|  2294|1513776431284|NextSong|        0|     2|\n",
      "|  2294|1513776894284|NextSong|        0|     2|\n",
      "|  2294|1513777061284|NextSong|        0|     2|\n",
      "|  2294|1513777295284|NextSong|        0|     2|\n",
      "|  2294|1513777411284|NextSong|        0|     2|\n",
      "|  2294|1513777601284|NextSong|        0|     2|\n",
      "|  2294|1513777797284|NextSong|        0|     2|\n",
      "|  2294|1513778035284|NextSong|        0|     2|\n",
      "|  2294|1513778261284|NextSong|        0|     2|\n",
      "|  2294|1513778486284|NextSong|        0|     2|\n",
      "|  2294|1513778650284|NextSong|        0|     2|\n",
      "|  2294|1513778770284|NextSong|        0|     2|\n",
      "|  2294|1513779022284|NextSong|        0|     2|\n",
      "|  2294|1513779255284|NextSong|        0|     2|\n",
      "|  2294|1513779476284|NextSong|        0|     2|\n",
      "|  2294|1513779734284|NextSong|        0|     2|\n",
      "|  2294|1513780160284|    Home|        1|     3|\n",
      "|  2294|1513780579284|NextSong|        0|     3|\n",
      "|  2294|1513780819284|NextSong|        0|     3|\n",
      "|  2294|1513781025284|NextSong|        0|     3|\n",
      "|  2294|1513781169284|    Home|        1|     4|\n",
      "|  2294|1513781540284|NextSong|        0|     4|\n",
      "|  2294|1513781920284|NextSong|        0|     4|\n",
      "|  2294|1513782175284|NextSong|        0|     4|\n",
      "|  2294|1513782658284|NextSong|        0|     4|\n",
      "|  2294|1513782847284|NextSong|        0|     4|\n",
      "|  2294|1513783319284|NextSong|        0|     4|\n",
      "|  2294|1513783585284|NextSong|        0|     4|\n",
      "|  2294|1513783804284|NextSong|        0|     4|\n",
      "|  2294|1513783984284|NextSong|        0|     4|\n",
      "|  2294|1513784296284|NextSong|        0|     4|\n",
      "+------+-------------+--------+---------+------+\n",
      "only showing top 100 rows\n",
      "\n"
     ]
    }
   ],
   "source": [
    "query2 =\"\"\"\n",
    "        SELECT *, SUM(home_page) OVER(PARTITION BY userId ORDER BY ts ROWS BETWEEN UNBOUNDED PRECEDING AND CURRENT ROW) AS period\n",
    "        FROM table1  \n",
    "        \"\"\"\n",
    "table2 = spark.sql(query2)\n",
    "table2.createOrReplaceTempView('table2')\n",
    "table2.show(100)"
   ]
  },
  {
   "cell_type": "code",
   "execution_count": 29,
   "metadata": {},
   "outputs": [
    {
     "name": "stdout",
     "output_type": "stream",
     "text": [
      "+------------------+\n",
      "|     avg(num_song)|\n",
      "+------------------+\n",
      "|6.9558333333333335|\n",
      "+------------------+\n",
      "\n"
     ]
    }
   ],
   "source": [
    "query3 = \"\"\"\n",
    "        SELECT AVG(num_song)\n",
    "        FROM\n",
    "        (SELECT count(*) AS num_song\n",
    "        FROM table2\n",
    "        GROUP BY userId, period, page\n",
    "        HAVING page = 'NextSong') AS table3\n",
    "        \"\"\"\n",
    "spark.sql(query3).show()"
   ]
  }
 ],
 "metadata": {
  "kernelspec": {
   "display_name": "Python 3",
   "language": "python",
   "name": "python3"
  },
  "language_info": {
   "codemirror_mode": {
    "name": "ipython",
    "version": 3
   },
   "file_extension": ".py",
   "mimetype": "text/x-python",
   "name": "python",
   "nbconvert_exporter": "python",
   "pygments_lexer": "ipython3",
   "version": "3.6.3"
  }
 },
 "nbformat": 4,
 "nbformat_minor": 2
}
